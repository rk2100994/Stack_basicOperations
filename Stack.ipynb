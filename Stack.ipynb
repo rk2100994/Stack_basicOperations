{
 "cells": [
  {
   "cell_type": "code",
   "execution_count": 15,
   "metadata": {},
   "outputs": [
    {
     "name": "stdout",
     "output_type": "stream",
     "text": [
      "['A']\n",
      "['A', 'B', 'C', 'D', 'E']\n",
      "['A', 'B', 'C', 'D']\n",
      "False\n",
      "D\n"
     ]
    }
   ],
   "source": [
    "class Stack():\n",
    "    def __init__(self):\n",
    "        self.items = []\n",
    "    def push(self,item):\n",
    "        self.items.append(item)\n",
    "    def pop(self):\n",
    "        return self.items.pop()\n",
    "    def isempty(self):\n",
    "        return self.items == []\n",
    "    def peek(self):\n",
    "        if not self.isempty():\n",
    "            return self.items[-1]\n",
    "    def get_stack(self):\n",
    "        return self.items\n",
    "s = Stack()\n",
    "s.push(\"A\")\n",
    "print(s.get_stack())\n",
    "s.push(\"B\")\n",
    "s.push(\"C\")\n",
    "s.push(\"D\")\n",
    "s.push(\"E\")\n",
    "print(s.get_stack())\n",
    "s.pop()\n",
    "print(s.get_stack())\n",
    "print(s.isempty())\n",
    "print(s.peek())"
   ]
  }
 ],
 "metadata": {
  "kernelspec": {
   "display_name": "Python 3",
   "language": "python",
   "name": "python3"
  },
  "language_info": {
   "codemirror_mode": {
    "name": "ipython",
    "version": 3
   },
   "file_extension": ".py",
   "mimetype": "text/x-python",
   "name": "python",
   "nbconvert_exporter": "python",
   "pygments_lexer": "ipython3",
   "version": "3.7.4"
  }
 },
 "nbformat": 4,
 "nbformat_minor": 2
}
